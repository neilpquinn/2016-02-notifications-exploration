{
 "cells": [
  {
   "cell_type": "markdown",
   "metadata": {
    "collapsed": true
   },
   "source": [
    "# Summary\n",
    "*Note: In all cases, the number of notifications is per month, and the percentages are out of the total number of users who received any notifications, or the total number of notifications received.*\n",
    "\n",
    "The distribution of notifications seems largely to follow a long-tailed [power law](https://en.wikipedia.org/wiki/Power_law) distribution. Almost all notified users receive very few (about 95% get from 1 to 4), while a very small number of highly-active users account for a large number of notifications (with about 0.1% receiving 10-15% of the total notifications).\n",
    "\n",
    "However, the distributions did vary somewhat between the wikis, falling into three main groups:\n",
    "* English Wikipedia and Japanese Wikipedia, which I expect represent \"normal\" large wikis. \n",
    "* Commons, where the number of highly-notified users is particularly small (98.5% of users receive 1 to 4 notifications, and 0.1% receive 25 or more). \n",
    "* French Wikipedia and Chinese Wikipedia, where Flow is used heavily. Both these wikis have a somewhat larger proportion of users with many notifications (about 0.9% of their users receiving 30 or more per month, compared with about 0.4% for English and Japanese).\n",
    "\n",
    "Users generally don't build up large numbers of unread notifications; for example, out of the 1203 enwiki users who had 30 or more notifications total, only 3.7% had 30 or more *unread* notifications.\n",
    "\n",
    "I suggest the following conclusions based on this data:\n",
    "* It's not worth investing significant resources into notification management tools beyond better bundling until Flow or other notification-heavy products are more widely used.\n",
    "* It may be worth investigating the small group of users who receive a very high number of notifications. For example, how many are bots? How many of the human users feel overwhelmed by their notifications?"
   ]
  },
  {
   "cell_type": "markdown",
   "metadata": {},
   "source": [
    "# Data collection\n",
    "## Choice of wikis ##\n",
    "I chose to look at notification use on five different wikis:\n",
    "* Commons (commonswiki)\n",
    "* English Wikipedia (enwiki)\n",
    "* Japanese Wikipedia (jawiki), \n",
    "* French Wikipedia (frwiki)\n",
    "* Chinese Wikipedia (zhwiki).\n",
    "\n",
    "Commons, enwiki, and jawiki represent \"normal\" large wikis; on the other hand, frwiki and zhwiki are relatively heavy users of [Flow](https://www.mediawiki.org/wiki/Flow) (frwiki at its central discussion board and zhwiki on user talk pages). Flow generates a large number of notifications but is not in use at many wikis; in making heavy use of notifications, it represents the likely future direction of MediaWiki software.\n",
    "\n",
    "## SQL ##\n",
    "The data was generated from the [Echo extension's](https://www.mediawiki.org/wiki/Notifications) database tables using the following queries:\n",
    "\n",
    "**Total notifications**\n",
    "```\n",
    "SELECT \n",
    "\tDATABASE() as \"wiki\",\n",
    "\t`notifications`,\n",
    "\t COUNT(*) as \"users\"\n",
    "FROM\n",
    "(\n",
    "\tSELECT\n",
    "\t\tCOUNT(*) as \"notifications\"\n",
    "\tFROM echo_notification\n",
    "\tWHERE\n",
    "\t\tnotification_timestamp > \"20160219\" AND\n",
    "\t\tnotification_timestamp < \"20160321\" AND\n",
    "        notification_bundle_base = 1\n",
    "\tGROUP BY notification_user\n",
    ") notifications_by_user\n",
    "GROUP BY `notifications`;\n",
    "```\n",
    "\n",
    "**Unread notifications**\n",
    "```\n",
    "SELECT\n",
    "\tDATABASE() as \"wiki\",\n",
    "\t`unread notifications`,\n",
    "\t COUNT(*) as \"users\"\n",
    "FROM\n",
    "(\n",
    "\tSELECT\n",
    "\t\tSUM( IF( notification_read_timestamp IS NULL, 1, 0) ) as \"unread notifications\"\n",
    "\tFROM echo_notification\n",
    "\tWHERE\n",
    "\t\tnotification_timestamp > \"20160219\" AND\n",
    "\t\tnotification_timestamp < \"20160321\" AND\n",
    "        notification_bundle_base = 1\n",
    "\tGROUP BY notification_user\n",
    ") notifications_by_user\n",
    "GROUP BY `unread notifications`;\n",
    "```\n",
    "I gathered the results from the 5 different wikis using [multiquery](https://github.com/halfak/multiquery) with the following command:\n",
    "\n",
    "```\n",
    "$ multiquery notifications_per_user.sql --dbnames=notifications_dbs.tsv --host=x1-analytics-slave.eqiad.wmnet --defaults-file=~/.my.cnf > ~/notifications_per_user.tsv\n",
    "```\n",
    "\n",
    "I ran the unread query on 28 March, so the unread counts reflect notifications from the month which were still unread about 7 days after it ended.\n",
    "\n",
    "## Notification bundling ##\n",
    "The queries include `notification_bundle_base = 1` to exclude \"bundled\" notifications, which (1) don't behave as a standalone notifications from the user's point of view and (2) are never directly marked as read in the database (instead their read status is computed \n",
    "\n",
    "There are downsides to this approach. The bundled notifications are real notifications (although they're generally less interesting to the user than stand-alone notifications), and omitting them will undercount notification activity. However, the largest purpose of this study is to understand whether users are currently overloaded with notifications, so we shouldn't ignore bundling's effect in reducing that load. In addition, the number of *unread* notifications is an important measure in this study, and the logic used to determine whether a bundled notification has been read is too complex to reimplement here.\n",
    "\n",
    "Accounting for bundling has a dramatic effect unread notifications; for example, a [previous version](https://github.com/neilpquinn/2016-02-notifications-exploration/blob/8d2bfbd848afe22a1dc178ad1abfc760a6673352/Notifications%20research.ipynb) of this study found that 19% of enwiki users with at least 25 notifications had at least 25 *unread* notifications. After excluding bundled notifications, that figure went down to 2%."
   ]
  },
  {
   "cell_type": "code",
   "execution_count": 1,
   "metadata": {
    "collapsed": true
   },
   "outputs": [],
   "source": [
    "import pandas as pd\n",
    "import numpy as np\n",
    "import matplotlib.pyplot as plt\n",
    "import matplotlib.axes as ax\n",
    "\n",
    "%matplotlib inline"
   ]
  },
  {
   "cell_type": "code",
   "execution_count": 2,
   "metadata": {
    "collapsed": false
   },
   "outputs": [
    {
     "data": {
      "text/html": [
       "<div>\n",
       "<table border=\"1\" class=\"dataframe\">\n",
       "  <thead>\n",
       "    <tr style=\"text-align: right;\">\n",
       "      <th></th>\n",
       "      <th>wiki</th>\n",
       "      <th>notifications</th>\n",
       "      <th>users</th>\n",
       "    </tr>\n",
       "  </thead>\n",
       "  <tbody>\n",
       "    <tr>\n",
       "      <th>590</th>\n",
       "      <td>zhwiki</td>\n",
       "      <td>187</td>\n",
       "      <td>1</td>\n",
       "    </tr>\n",
       "    <tr>\n",
       "      <th>591</th>\n",
       "      <td>zhwiki</td>\n",
       "      <td>190</td>\n",
       "      <td>1</td>\n",
       "    </tr>\n",
       "    <tr>\n",
       "      <th>592</th>\n",
       "      <td>zhwiki</td>\n",
       "      <td>325</td>\n",
       "      <td>1</td>\n",
       "    </tr>\n",
       "    <tr>\n",
       "      <th>593</th>\n",
       "      <td>zhwiki</td>\n",
       "      <td>454</td>\n",
       "      <td>1</td>\n",
       "    </tr>\n",
       "    <tr>\n",
       "      <th>594</th>\n",
       "      <td>zhwiki</td>\n",
       "      <td>525</td>\n",
       "      <td>1</td>\n",
       "    </tr>\n",
       "  </tbody>\n",
       "</table>\n",
       "</div>"
      ],
      "text/plain": [
       "       wiki  notifications  users\n",
       "590  zhwiki            187      1\n",
       "591  zhwiki            190      1\n",
       "592  zhwiki            325      1\n",
       "593  zhwiki            454      1\n",
       "594  zhwiki            525      1"
      ]
     },
     "execution_count": 2,
     "metadata": {},
     "output_type": "execute_result"
    }
   ],
   "source": [
    "notifs = pd.read_table(\"./notifications_per_user.tsv\")\n",
    "unreads = pd.read_table(\"./unread_notifications_per_user.tsv\")\n",
    "wikis = set(notifs[\"wiki\"])\n",
    "\n",
    "notifs.tail()"
   ]
  },
  {
   "cell_type": "code",
   "execution_count": 3,
   "metadata": {
    "collapsed": true
   },
   "outputs": [],
   "source": [
    "def filter_by_wiki( df, wiki ):\n",
    "    return df[ df[\"wiki\"] == wiki ].iloc[:, 1:3]\n",
    "\n",
    "def plot_by_wiki( df, wiki, range = (5, 104), bins = 20, ax = plt ): \n",
    "    dist = filter_by_wiki( df, wiki )\n",
    "    ax.hist( dist.iloc[:, 0], bins = bins, range = range, weights = dist.iloc[:, 1])\n",
    "    ax.set_title(wiki)\n",
    "    ax.set_xlabel( \"Number of notifications\" )\n",
    "    ax.set_ylabel( \"Users\" )"
   ]
  },
  {
   "cell_type": "markdown",
   "metadata": {},
   "source": [
    "# Total notifications"
   ]
  },
  {
   "cell_type": "markdown",
   "metadata": {},
   "source": [
    "This data covers all the users who received at least one notification during the month, whether they actually visited the site during month or not, so we'd expect that the numbers are dominated by a large bulk of users with very few notifications, and that there's a long tail of very few users with a very large number of notifications. \n",
    "\n",
    "But let's characterize that a bit. At each wiki, how many and what percent of users with any notifications got fewer than 5?"
   ]
  },
  {
   "cell_type": "code",
   "execution_count": 4,
   "metadata": {
    "collapsed": false
   },
   "outputs": [
    {
     "data": {
      "text/html": [
       "<div>\n",
       "<table border=\"1\" class=\"dataframe\">\n",
       "  <thead>\n",
       "    <tr style=\"text-align: right;\">\n",
       "      <th></th>\n",
       "      <th>wiki</th>\n",
       "      <th>users</th>\n",
       "      <th>% of users</th>\n",
       "      <th>% of notifications</th>\n",
       "    </tr>\n",
       "  </thead>\n",
       "  <tbody>\n",
       "    <tr>\n",
       "      <th>0</th>\n",
       "      <td>zhwiki</td>\n",
       "      <td>9459</td>\n",
       "      <td>95.9</td>\n",
       "      <td>53.2</td>\n",
       "    </tr>\n",
       "    <tr>\n",
       "      <th>1</th>\n",
       "      <td>enwiki</td>\n",
       "      <td>240282</td>\n",
       "      <td>96.2</td>\n",
       "      <td>63.9</td>\n",
       "    </tr>\n",
       "    <tr>\n",
       "      <th>2</th>\n",
       "      <td>commonswiki</td>\n",
       "      <td>61302</td>\n",
       "      <td>99.0</td>\n",
       "      <td>86.7</td>\n",
       "    </tr>\n",
       "    <tr>\n",
       "      <th>3</th>\n",
       "      <td>jawiki</td>\n",
       "      <td>8754</td>\n",
       "      <td>94.6</td>\n",
       "      <td>62.1</td>\n",
       "    </tr>\n",
       "    <tr>\n",
       "      <th>4</th>\n",
       "      <td>frwiki</td>\n",
       "      <td>30477</td>\n",
       "      <td>95.0</td>\n",
       "      <td>55.6</td>\n",
       "    </tr>\n",
       "  </tbody>\n",
       "</table>\n",
       "</div>"
      ],
      "text/plain": [
       "          wiki   users  % of users  % of notifications\n",
       "0       zhwiki    9459        95.9                53.2\n",
       "1       enwiki  240282        96.2                63.9\n",
       "2  commonswiki   61302        99.0                86.7\n",
       "3       jawiki    8754        94.6                62.1\n",
       "4       frwiki   30477        95.0                55.6"
      ]
     },
     "execution_count": 4,
     "metadata": {},
     "output_type": "execute_result"
    }
   ],
   "source": [
    "def beyond_threshold(df, wikis, threshold, direction):\n",
    "    columns = [\n",
    "    \"wiki\",\n",
    "    \"users\",\n",
    "    \"% of users\",\n",
    "    \"% of notifications\"\n",
    "    ]\n",
    "    \n",
    "    results = []\n",
    "    \n",
    "    for wiki in wikis:\n",
    "        by_wiki = filter_by_wiki(df, wiki)\n",
    "        total_users = by_wiki.iloc[:, 1].sum()\n",
    "        \n",
    "        total_notifs = 0 \n",
    "        for row in by_wiki.iterrows():\n",
    "            total_notifs += row[1][0] * row[1][1]\n",
    "        \n",
    "        if direction == \"under\":\n",
    "            beyond_threshold = by_wiki[ by_wiki.iloc[:, 0] < threshold ]\n",
    "        elif direction == \"over\":\n",
    "            beyond_threshold = by_wiki[ by_wiki.iloc[:, 0] > threshold ]\n",
    "        \n",
    "        users_beyond_threshold = beyond_threshold.iloc[:, 1].sum()\n",
    "        notifs_beyond_threshold = 0\n",
    "                \n",
    "        for row in beyond_threshold.iterrows():\n",
    "            notifs_beyond_threshold += row[1][0] * row[1][1]\n",
    "        \n",
    "        user_proportion = users_beyond_threshold / total_users\n",
    "        notifs_proportion = notifs_beyond_threshold / total_notifs\n",
    "        \n",
    "        results.append([\n",
    "            wiki, \n",
    "            users_beyond_threshold,\n",
    "            round(user_proportion * 100, 1),\n",
    "            round(notifs_proportion * 100, 1)\n",
    "        ])\n",
    "    \n",
    "    results = pd.DataFrame(results, columns=columns)\n",
    "    return results\n",
    "\n",
    "beyond_threshold( notifs, wikis, 5, \"under\")"
   ]
  },
  {
   "cell_type": "markdown",
   "metadata": {},
   "source": [
    "5 or more?"
   ]
  },
  {
   "cell_type": "code",
   "execution_count": 5,
   "metadata": {
    "collapsed": false
   },
   "outputs": [
    {
     "data": {
      "text/html": [
       "<div>\n",
       "<table border=\"1\" class=\"dataframe\">\n",
       "  <thead>\n",
       "    <tr style=\"text-align: right;\">\n",
       "      <th></th>\n",
       "      <th>wiki</th>\n",
       "      <th>users</th>\n",
       "      <th>% of users</th>\n",
       "      <th>% of notifications</th>\n",
       "    </tr>\n",
       "  </thead>\n",
       "  <tbody>\n",
       "    <tr>\n",
       "      <th>0</th>\n",
       "      <td>zhwiki</td>\n",
       "      <td>405</td>\n",
       "      <td>4.1</td>\n",
       "      <td>46.8</td>\n",
       "    </tr>\n",
       "    <tr>\n",
       "      <th>1</th>\n",
       "      <td>enwiki</td>\n",
       "      <td>9524</td>\n",
       "      <td>3.8</td>\n",
       "      <td>36.1</td>\n",
       "    </tr>\n",
       "    <tr>\n",
       "      <th>2</th>\n",
       "      <td>commonswiki</td>\n",
       "      <td>635</td>\n",
       "      <td>1.0</td>\n",
       "      <td>13.3</td>\n",
       "    </tr>\n",
       "    <tr>\n",
       "      <th>3</th>\n",
       "      <td>jawiki</td>\n",
       "      <td>501</td>\n",
       "      <td>5.4</td>\n",
       "      <td>37.9</td>\n",
       "    </tr>\n",
       "    <tr>\n",
       "      <th>4</th>\n",
       "      <td>frwiki</td>\n",
       "      <td>1607</td>\n",
       "      <td>5.0</td>\n",
       "      <td>44.4</td>\n",
       "    </tr>\n",
       "  </tbody>\n",
       "</table>\n",
       "</div>"
      ],
      "text/plain": [
       "          wiki  users  % of users  % of notifications\n",
       "0       zhwiki    405         4.1                46.8\n",
       "1       enwiki   9524         3.8                36.1\n",
       "2  commonswiki    635         1.0                13.3\n",
       "3       jawiki    501         5.4                37.9\n",
       "4       frwiki   1607         5.0                44.4"
      ]
     },
     "execution_count": 5,
     "metadata": {},
     "output_type": "execute_result"
    }
   ],
   "source": [
    "beyond_threshold(notifs, wikis, 4, \"over\")"
   ]
  },
  {
   "cell_type": "markdown",
   "metadata": {},
   "source": [
    "And what percent of users got 25 notifications or more—becoming more or less \"daily notified\"?"
   ]
  },
  {
   "cell_type": "code",
   "execution_count": 6,
   "metadata": {
    "collapsed": false
   },
   "outputs": [
    {
     "data": {
      "text/html": [
       "<div>\n",
       "<table border=\"1\" class=\"dataframe\">\n",
       "  <thead>\n",
       "    <tr style=\"text-align: right;\">\n",
       "      <th></th>\n",
       "      <th>wiki</th>\n",
       "      <th>users</th>\n",
       "      <th>% of users</th>\n",
       "      <th>% of notifications</th>\n",
       "    </tr>\n",
       "  </thead>\n",
       "  <tbody>\n",
       "    <tr>\n",
       "      <th>0</th>\n",
       "      <td>zhwiki</td>\n",
       "      <td>96</td>\n",
       "      <td>1.0</td>\n",
       "      <td>33.1</td>\n",
       "    </tr>\n",
       "    <tr>\n",
       "      <th>1</th>\n",
       "      <td>enwiki</td>\n",
       "      <td>1474</td>\n",
       "      <td>0.6</td>\n",
       "      <td>21.3</td>\n",
       "    </tr>\n",
       "    <tr>\n",
       "      <th>2</th>\n",
       "      <td>commonswiki</td>\n",
       "      <td>102</td>\n",
       "      <td>0.2</td>\n",
       "      <td>8.2</td>\n",
       "    </tr>\n",
       "    <tr>\n",
       "      <th>3</th>\n",
       "      <td>jawiki</td>\n",
       "      <td>61</td>\n",
       "      <td>0.7</td>\n",
       "      <td>18.4</td>\n",
       "    </tr>\n",
       "    <tr>\n",
       "      <th>4</th>\n",
       "      <td>frwiki</td>\n",
       "      <td>382</td>\n",
       "      <td>1.2</td>\n",
       "      <td>32.0</td>\n",
       "    </tr>\n",
       "  </tbody>\n",
       "</table>\n",
       "</div>"
      ],
      "text/plain": [
       "          wiki  users  % of users  % of notifications\n",
       "0       zhwiki     96         1.0                33.1\n",
       "1       enwiki   1474         0.6                21.3\n",
       "2  commonswiki    102         0.2                 8.2\n",
       "3       jawiki     61         0.7                18.4\n",
       "4       frwiki    382         1.2                32.0"
      ]
     },
     "execution_count": 6,
     "metadata": {},
     "output_type": "execute_result"
    }
   ],
   "source": [
    "beyond_threshold(notifs, wikis, 24, \"over\")  "
   ]
  },
  {
   "cell_type": "markdown",
   "metadata": {},
   "source": [
    "That's lower than I expected at English Wikipedia. It only had about 1,200 users with at least 30 notifications per month, compared to 3,500 highly active users (100+ edits) per month. However, both Flow wikis have higher percentages than the non-Flow wikis.\n",
    "\n",
    "Now, let's look at the actual distributions. To make it easier to comprehend, I'll cut off the 90%+ of users with fewer than 5 notifications. I'll also cut off the users with 100 or more. How many is that?"
   ]
  },
  {
   "cell_type": "code",
   "execution_count": 7,
   "metadata": {
    "collapsed": false
   },
   "outputs": [
    {
     "data": {
      "text/html": [
       "<div>\n",
       "<table border=\"1\" class=\"dataframe\">\n",
       "  <thead>\n",
       "    <tr style=\"text-align: right;\">\n",
       "      <th></th>\n",
       "      <th>wiki</th>\n",
       "      <th>users</th>\n",
       "      <th>% of users</th>\n",
       "      <th>% of notifications</th>\n",
       "    </tr>\n",
       "  </thead>\n",
       "  <tbody>\n",
       "    <tr>\n",
       "      <th>0</th>\n",
       "      <td>zhwiki</td>\n",
       "      <td>17</td>\n",
       "      <td>0.2</td>\n",
       "      <td>15.5</td>\n",
       "    </tr>\n",
       "    <tr>\n",
       "      <th>1</th>\n",
       "      <td>enwiki</td>\n",
       "      <td>248</td>\n",
       "      <td>0.1</td>\n",
       "      <td>9.5</td>\n",
       "    </tr>\n",
       "    <tr>\n",
       "      <th>2</th>\n",
       "      <td>commonswiki</td>\n",
       "      <td>15</td>\n",
       "      <td>0.0</td>\n",
       "      <td>3.6</td>\n",
       "    </tr>\n",
       "    <tr>\n",
       "      <th>3</th>\n",
       "      <td>jawiki</td>\n",
       "      <td>7</td>\n",
       "      <td>0.1</td>\n",
       "      <td>8.2</td>\n",
       "    </tr>\n",
       "    <tr>\n",
       "      <th>4</th>\n",
       "      <td>frwiki</td>\n",
       "      <td>59</td>\n",
       "      <td>0.2</td>\n",
       "      <td>14.7</td>\n",
       "    </tr>\n",
       "  </tbody>\n",
       "</table>\n",
       "</div>"
      ],
      "text/plain": [
       "          wiki  users  % of users  % of notifications\n",
       "0       zhwiki     17         0.2                15.5\n",
       "1       enwiki    248         0.1                 9.5\n",
       "2  commonswiki     15         0.0                 3.6\n",
       "3       jawiki      7         0.1                 8.2\n",
       "4       frwiki     59         0.2                14.7"
      ]
     },
     "execution_count": 7,
     "metadata": {},
     "output_type": "execute_result"
    }
   ],
   "source": [
    "beyond_threshold(notifs, wikis, 99, \"over\")"
   ]
  },
  {
   "cell_type": "markdown",
   "metadata": {},
   "source": [
    "## Graphs ##"
   ]
  },
  {
   "cell_type": "code",
   "execution_count": 8,
   "metadata": {
    "collapsed": false,
    "scrolled": true
   },
   "outputs": [
    {
     "data": {
      "image/png": "[encoded data removed]",
      "text/plain": [
       "<matplotlib.figure.Figure at 0x10d89f2b0>"
      ]
     },
     "metadata": {},
     "output_type": "display_data"
    }
   ],
   "source": [
    "fig, axarr = plt.subplots( 5, 1, figsize=(12,30) )\n",
    "fig.suptitle(\"Total notifications per user\", fontsize=24)\n",
    "fig.subplots_adjust(top=0.95)\n",
    "i = 0\n",
    "for wiki in wikis:\n",
    "    plot_by_wiki(notifs, wiki, ax = axarr[i])\n",
    "    i = i + 1"
   ]
  },
  {
   "cell_type": "markdown",
   "metadata": {},
   "source": [
    "So, as expected, all the wikis have a pretty regular [power-law distribution](https://en.wikipedia.org/wiki/Power_law) of notifications. \n",
    "\n",
    "# Unread notifications"
   ]
  },
  {
   "cell_type": "markdown",
   "metadata": {},
   "source": [
    "First, the counts and percentages for various levels of unread notifications.\n",
    "\n",
    "## Under 5 ##"
   ]
  },
  {
   "cell_type": "code",
   "execution_count": 9,
   "metadata": {
    "collapsed": false
   },
   "outputs": [
    {
     "data": {
      "text/html": [
       "<div>\n",
       "<table border=\"1\" class=\"dataframe\">\n",
       "  <thead>\n",
       "    <tr style=\"text-align: right;\">\n",
       "      <th></th>\n",
       "      <th>wiki</th>\n",
       "      <th>users</th>\n",
       "      <th>% of users</th>\n",
       "      <th>% of notifications</th>\n",
       "    </tr>\n",
       "  </thead>\n",
       "  <tbody>\n",
       "    <tr>\n",
       "      <th>0</th>\n",
       "      <td>zhwiki</td>\n",
       "      <td>9815</td>\n",
       "      <td>99.5</td>\n",
       "      <td>84.0</td>\n",
       "    </tr>\n",
       "    <tr>\n",
       "      <th>1</th>\n",
       "      <td>enwiki</td>\n",
       "      <td>249290</td>\n",
       "      <td>99.8</td>\n",
       "      <td>95.6</td>\n",
       "    </tr>\n",
       "    <tr>\n",
       "      <th>2</th>\n",
       "      <td>commonswiki</td>\n",
       "      <td>61908</td>\n",
       "      <td>100.0</td>\n",
       "      <td>98.6</td>\n",
       "    </tr>\n",
       "    <tr>\n",
       "      <th>3</th>\n",
       "      <td>jawiki</td>\n",
       "      <td>9202</td>\n",
       "      <td>99.4</td>\n",
       "      <td>93.6</td>\n",
       "    </tr>\n",
       "    <tr>\n",
       "      <th>4</th>\n",
       "      <td>frwiki</td>\n",
       "      <td>32003</td>\n",
       "      <td>99.7</td>\n",
       "      <td>95.7</td>\n",
       "    </tr>\n",
       "  </tbody>\n",
       "</table>\n",
       "</div>"
      ],
      "text/plain": [
       "          wiki   users  % of users  % of notifications\n",
       "0       zhwiki    9815        99.5                84.0\n",
       "1       enwiki  249290        99.8                95.6\n",
       "2  commonswiki   61908       100.0                98.6\n",
       "3       jawiki    9202        99.4                93.6\n",
       "4       frwiki   32003        99.7                95.7"
      ]
     },
     "execution_count": 9,
     "metadata": {},
     "output_type": "execute_result"
    }
   ],
   "source": [
    "beyond_threshold(unreads, wikis, 5, \"under\")"
   ]
  },
  {
   "cell_type": "markdown",
   "metadata": {},
   "source": [
    "## 5 or more ##"
   ]
  },
  {
   "cell_type": "code",
   "execution_count": 10,
   "metadata": {
    "collapsed": false
   },
   "outputs": [
    {
     "data": {
      "text/html": [
       "<div>\n",
       "<table border=\"1\" class=\"dataframe\">\n",
       "  <thead>\n",
       "    <tr style=\"text-align: right;\">\n",
       "      <th></th>\n",
       "      <th>wiki</th>\n",
       "      <th>users</th>\n",
       "      <th>% of users</th>\n",
       "      <th>% of notifications</th>\n",
       "    </tr>\n",
       "  </thead>\n",
       "  <tbody>\n",
       "    <tr>\n",
       "      <th>0</th>\n",
       "      <td>zhwiki</td>\n",
       "      <td>49</td>\n",
       "      <td>0.5</td>\n",
       "      <td>16.0</td>\n",
       "    </tr>\n",
       "    <tr>\n",
       "      <th>1</th>\n",
       "      <td>enwiki</td>\n",
       "      <td>513</td>\n",
       "      <td>0.2</td>\n",
       "      <td>4.4</td>\n",
       "    </tr>\n",
       "    <tr>\n",
       "      <th>2</th>\n",
       "      <td>commonswiki</td>\n",
       "      <td>26</td>\n",
       "      <td>0.0</td>\n",
       "      <td>1.4</td>\n",
       "    </tr>\n",
       "    <tr>\n",
       "      <th>3</th>\n",
       "      <td>jawiki</td>\n",
       "      <td>53</td>\n",
       "      <td>0.6</td>\n",
       "      <td>6.4</td>\n",
       "    </tr>\n",
       "    <tr>\n",
       "      <th>4</th>\n",
       "      <td>frwiki</td>\n",
       "      <td>81</td>\n",
       "      <td>0.3</td>\n",
       "      <td>4.3</td>\n",
       "    </tr>\n",
       "  </tbody>\n",
       "</table>\n",
       "</div>"
      ],
      "text/plain": [
       "          wiki  users  % of users  % of notifications\n",
       "0       zhwiki     49         0.5                16.0\n",
       "1       enwiki    513         0.2                 4.4\n",
       "2  commonswiki     26         0.0                 1.4\n",
       "3       jawiki     53         0.6                 6.4\n",
       "4       frwiki     81         0.3                 4.3"
      ]
     },
     "execution_count": 10,
     "metadata": {},
     "output_type": "execute_result"
    }
   ],
   "source": [
    "beyond_threshold(unreads, wikis, 4, \"over\")"
   ]
  },
  {
   "cell_type": "markdown",
   "metadata": {},
   "source": [
    "## 25 or more ##"
   ]
  },
  {
   "cell_type": "code",
   "execution_count": 11,
   "metadata": {
    "collapsed": false,
    "scrolled": true
   },
   "outputs": [
    {
     "data": {
      "text/html": [
       "<div>\n",
       "<table border=\"1\" class=\"dataframe\">\n",
       "  <thead>\n",
       "    <tr style=\"text-align: right;\">\n",
       "      <th></th>\n",
       "      <th>wiki</th>\n",
       "      <th>users</th>\n",
       "      <th>% of users</th>\n",
       "      <th>% of notifications</th>\n",
       "    </tr>\n",
       "  </thead>\n",
       "  <tbody>\n",
       "    <tr>\n",
       "      <th>0</th>\n",
       "      <td>zhwiki</td>\n",
       "      <td>14</td>\n",
       "      <td>0.1</td>\n",
       "      <td>10.8</td>\n",
       "    </tr>\n",
       "    <tr>\n",
       "      <th>1</th>\n",
       "      <td>enwiki</td>\n",
       "      <td>53</td>\n",
       "      <td>0.0</td>\n",
       "      <td>2.3</td>\n",
       "    </tr>\n",
       "    <tr>\n",
       "      <th>2</th>\n",
       "      <td>commonswiki</td>\n",
       "      <td>5</td>\n",
       "      <td>0.0</td>\n",
       "      <td>1.1</td>\n",
       "    </tr>\n",
       "    <tr>\n",
       "      <th>3</th>\n",
       "      <td>jawiki</td>\n",
       "      <td>2</td>\n",
       "      <td>0.0</td>\n",
       "      <td>0.8</td>\n",
       "    </tr>\n",
       "    <tr>\n",
       "      <th>4</th>\n",
       "      <td>frwiki</td>\n",
       "      <td>13</td>\n",
       "      <td>0.0</td>\n",
       "      <td>2.3</td>\n",
       "    </tr>\n",
       "  </tbody>\n",
       "</table>\n",
       "</div>"
      ],
      "text/plain": [
       "          wiki  users  % of users  % of notifications\n",
       "0       zhwiki     14         0.1                10.8\n",
       "1       enwiki     53         0.0                 2.3\n",
       "2  commonswiki      5         0.0                 1.1\n",
       "3       jawiki      2         0.0                 0.8\n",
       "4       frwiki     13         0.0                 2.3"
      ]
     },
     "execution_count": 11,
     "metadata": {},
     "output_type": "execute_result"
    }
   ],
   "source": [
    "beyond_threshold(unreads, wikis, 24, \"over\")"
   ]
  },
  {
   "cell_type": "markdown",
   "metadata": {},
   "source": [
    "## 100 or more ##"
   ]
  },
  {
   "cell_type": "code",
   "execution_count": 12,
   "metadata": {
    "collapsed": false
   },
   "outputs": [
    {
     "data": {
      "text/html": [
       "<div>\n",
       "<table border=\"1\" class=\"dataframe\">\n",
       "  <thead>\n",
       "    <tr style=\"text-align: right;\">\n",
       "      <th></th>\n",
       "      <th>wiki</th>\n",
       "      <th>users</th>\n",
       "      <th>% of users</th>\n",
       "      <th>% of notifications</th>\n",
       "    </tr>\n",
       "  </thead>\n",
       "  <tbody>\n",
       "    <tr>\n",
       "      <th>0</th>\n",
       "      <td>zhwiki</td>\n",
       "      <td>1</td>\n",
       "      <td>0.0</td>\n",
       "      <td>2.3</td>\n",
       "    </tr>\n",
       "    <tr>\n",
       "      <th>1</th>\n",
       "      <td>enwiki</td>\n",
       "      <td>11</td>\n",
       "      <td>0.0</td>\n",
       "      <td>1.2</td>\n",
       "    </tr>\n",
       "    <tr>\n",
       "      <th>2</th>\n",
       "      <td>commonswiki</td>\n",
       "      <td>2</td>\n",
       "      <td>0.0</td>\n",
       "      <td>0.8</td>\n",
       "    </tr>\n",
       "    <tr>\n",
       "      <th>3</th>\n",
       "      <td>jawiki</td>\n",
       "      <td>0</td>\n",
       "      <td>0.0</td>\n",
       "      <td>0.0</td>\n",
       "    </tr>\n",
       "    <tr>\n",
       "      <th>4</th>\n",
       "      <td>frwiki</td>\n",
       "      <td>0</td>\n",
       "      <td>0.0</td>\n",
       "      <td>0.0</td>\n",
       "    </tr>\n",
       "  </tbody>\n",
       "</table>\n",
       "</div>"
      ],
      "text/plain": [
       "          wiki  users  % of users  % of notifications\n",
       "0       zhwiki      1         0.0                 2.3\n",
       "1       enwiki     11         0.0                 1.2\n",
       "2  commonswiki      2         0.0                 0.8\n",
       "3       jawiki      0         0.0                 0.0\n",
       "4       frwiki      0         0.0                 0.0"
      ]
     },
     "execution_count": 12,
     "metadata": {},
     "output_type": "execute_result"
    }
   ],
   "source": [
    "beyond_threshold(unreads, wikis, 99, \"over\")"
   ]
  },
  {
   "cell_type": "markdown",
   "metadata": {},
   "source": [
    "## Histograms ##"
   ]
  },
  {
   "cell_type": "code",
   "execution_count": 13,
   "metadata": {
    "collapsed": false
   },
   "outputs": [
    {
     "data": {
      "image/png": "[encoded data removed]",
      "text/plain": [
       "<matplotlib.figure.Figure at 0x110120128>"
      ]
     },
     "metadata": {},
     "output_type": "display_data"
    }
   ],
   "source": [
    "fig, axarr = plt.subplots( 5, 1, figsize=(12,30) )\n",
    "fig.suptitle(\"Unread notifications per user\", fontsize=24)\n",
    "fig.subplots_adjust(top=0.95)\n",
    "i = 0\n",
    "for wiki in wikis:\n",
    "    plot_by_wiki(unreads, wiki, ax = axarr[i])\n",
    "    i = i + 1"
   ]
  }
 ],
 "metadata": {
  "kernelspec": {
   "display_name": "Python 3",
   "language": "python",
   "name": "python3"
  },
  "language_info": {
   "codemirror_mode": {
    "name": "ipython",
    "version": 3
   },
   "file_extension": ".py",
   "mimetype": "text/x-python",
   "name": "python",
   "nbconvert_exporter": "python",
   "pygments_lexer": "ipython3",
   "version": "3.5.1"
  }
 },
 "nbformat": 4,
 "nbformat_minor": 0
}
