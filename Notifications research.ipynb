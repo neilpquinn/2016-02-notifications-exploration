{
 "cells": [
  {
   "cell_type": "markdown",
   "metadata": {
    "collapsed": true
   },
   "source": [
    "# Summary\n",
    "*Note: In all cases, the number of notifications is per month, and the percentages are out of the total number of users who received any notifications, or the total number of notifications received.*\n",
    "\n",
    "The distribution of notifications seems largely to follow a long-tailed [power law](https://en.wikipedia.org/wiki/Power_law) distribution. Almost all users receive very few (about 94% get from 1 to 4), while a very small number of highly-active users account for a large number of notifications (with 1-2% of users receiving 25 or more per month, and about 0.1% receiving 10-15% of the total notifications). \n",
    "\n",
    "The wikis I studied fell into three main groups:\n",
    "* English Wikipedia and Japanese Wikipedia, which I expect represent \"normal\" large wikis. \n",
    "* Commons, where the number of highly-notified users is particularly small (98.5% of users receive 1 to 4 notifications, and 0.1% receive 25 or more). \n",
    "* French Wikipedia and Chinese Wikipedia, where Flow is used heavily. Both these wikis have a somewhat larger proportion of users with many notifications, largely because of substantial bump in the proportion of users with who get 20–30 notifications per month.\n",
    "\n",
    "I would suggest the following conclusions based on this data:\n",
    "* It is not worth investing significant resources into notification management tools (other than better bundling) until Flow or similar products are rolled out to more wikis.\n",
    "* It may be worth investigating the small subset of users who receive a very high number of notifications to learn more about their habits. For example, they may be bots, or as highly-active users they may feel that they badly need better notification management."
   ]
  },
  {
   "cell_type": "markdown",
   "metadata": {},
   "source": [
    "# Setup and data collection"
   ]
  },
  {
   "cell_type": "code",
   "execution_count": 1,
   "metadata": {
    "collapsed": true
   },
   "outputs": [],
   "source": [
    "%matplotlib inline"
   ]
  },
  {
   "cell_type": "code",
   "execution_count": 2,
   "metadata": {
    "collapsed": true
   },
   "outputs": [],
   "source": [
    "import pandas as pd\n",
    "import matplotlib.pyplot as plt\n",
    "import matplotlib.axes as ax"
   ]
  },
  {
   "cell_type": "markdown",
   "metadata": {},
   "source": [
    "The data was generated from the [Echo extension's](https://www.mediawiki.org/wiki/Notifications) database tables for the following wikis:\n",
    "* Commons (commonswiki)\n",
    "* English Wikipedia (enwiki)\n",
    "* Japanese Wikipedia (jawiki), \n",
    "* French Wikipedia (frwiki)\n",
    "* Chinese Wikipedia (zhwiki). \n",
    "\n",
    "I chose frwiki and zhwiki because they are relatively heavy users (frwiki at its central discussion board and zhwiki on user talk pages) of [Flow](https://www.mediawiki.org/wiki/Flow), which generates a large number of notifications when it's used for discussions.\n",
    "\n",
    "The raw queries were the following:\n",
    "\n",
    "**Total notifications**\n",
    "```\n",
    "SELECT \n",
    "\tDATABASE() as \"wiki\",\n",
    "\t`notifications`,\n",
    "\t COUNT(*) as \"users\"\n",
    "FROM\n",
    "(\n",
    "\tSELECT\n",
    "\t\tCOUNT(*) as \"total notifications\",\n",
    "\tFROM echo_notification\n",
    "\tWHERE\n",
    "\t\tnotification_timestamp > \"20160111\" AND\n",
    "\t\tnotification_timestamp < \"20160210\"\n",
    "\tGROUP BY notification_user\n",
    ") notifications_by_user\n",
    "GROUP BY `total notifications`;\n",
    "```\n",
    "\n",
    "**Unread notifications**\n",
    "```\n",
    "SELECT\n",
    "\tDATABASE() as \"wiki\",\n",
    "\t`unread notifications`,\n",
    "\t COUNT(*) as \"users\"\n",
    "FROM\n",
    "(\n",
    "\tSELECT\n",
    "\t\tSUM( IF( notification_read_timestamp IS NULL, 1, 0) ) as \"unread notifications\"\n",
    "\tFROM echo_notification\n",
    "\tWHERE\n",
    "\t\tnotification_timestamp > \"20160111\" AND\n",
    "\t\tnotification_timestamp < \"20160210\"\n",
    "\tGROUP BY notification_user\n",
    ") notifications_by_user\n",
    "GROUP BY `unread notifications`;\n",
    "```\n",
    "I ran them through [multiquery](https://github.com/halfak/multiquery) using the following command:\n",
    "```\n",
    "$ multiquery {{sql file}} --dbnames=notifications_dbs.tsv --host=x1-analytics-slave.eqiad.wmnet --defaults-file=~/.my.cnf > {{output file}}\n",
    "```\n",
    "\n",
    "I ran the unread query on 17 March, so the unread counts reflect notifications from the month which were still unread 34 days after it ended. Therefore, those counts likely reflect notifications which can be considered permanently unread."
   ]
  },
  {
   "cell_type": "code",
   "execution_count": 3,
   "metadata": {
    "collapsed": false
   },
   "outputs": [
    {
     "data": {
      "text/html": [
       "<div>\n",
       "<table border=\"1\" class=\"dataframe\">\n",
       "  <thead>\n",
       "    <tr style=\"text-align: right;\">\n",
       "      <th></th>\n",
       "      <th>wiki</th>\n",
       "      <th>total notifications</th>\n",
       "      <th>users</th>\n",
       "    </tr>\n",
       "  </thead>\n",
       "  <tbody>\n",
       "    <tr>\n",
       "      <th>697</th>\n",
       "      <td>zhwiki</td>\n",
       "      <td>272</td>\n",
       "      <td>1</td>\n",
       "    </tr>\n",
       "    <tr>\n",
       "      <th>698</th>\n",
       "      <td>zhwiki</td>\n",
       "      <td>291</td>\n",
       "      <td>1</td>\n",
       "    </tr>\n",
       "    <tr>\n",
       "      <th>699</th>\n",
       "      <td>zhwiki</td>\n",
       "      <td>320</td>\n",
       "      <td>1</td>\n",
       "    </tr>\n",
       "    <tr>\n",
       "      <th>700</th>\n",
       "      <td>zhwiki</td>\n",
       "      <td>403</td>\n",
       "      <td>1</td>\n",
       "    </tr>\n",
       "    <tr>\n",
       "      <th>701</th>\n",
       "      <td>zhwiki</td>\n",
       "      <td>452</td>\n",
       "      <td>1</td>\n",
       "    </tr>\n",
       "  </tbody>\n",
       "</table>\n",
       "</div>"
      ],
      "text/plain": [
       "       wiki  total notifications  users\n",
       "697  zhwiki                  272      1\n",
       "698  zhwiki                  291      1\n",
       "699  zhwiki                  320      1\n",
       "700  zhwiki                  403      1\n",
       "701  zhwiki                  452      1"
      ]
     },
     "execution_count": 3,
     "metadata": {},
     "output_type": "execute_result"
    }
   ],
   "source": [
    "notifs = pd.read_table(\"./notifications_per_user.tsv\")\n",
    "unreads = pd.read_table(\"./unread_notifications_per_user.tsv\")\n",
    "wikis = set(notifs[\"wiki\"])\n",
    "\n",
    "notifs.tail()"
   ]
  },
  {
   "cell_type": "code",
   "execution_count": 4,
   "metadata": {
    "collapsed": true
   },
   "outputs": [],
   "source": [
    "def filter_by_wiki( df, wiki ):\n",
    "    return df[ df[\"wiki\"] == wiki ].iloc[:, 1:3]\n",
    "\n",
    "def plot_by_wiki( df, wiki, range = (5, 104), bins = 20, ax = plt ): \n",
    "    dist = filter_by_wiki( df, wiki )\n",
    "    ax.hist( dist.iloc[:, 0], bins = bins, range = range, weights = dist.iloc[:, 1])\n",
    "    ax.set_title(wiki)\n",
    "    ax.set_xlabel( \"Number of notifications\" )\n",
    "    ax.set_ylabel( \"Users\" )"
   ]
  },
  {
   "cell_type": "markdown",
   "metadata": {},
   "source": [
    "# Total notifications"
   ]
  },
  {
   "cell_type": "markdown",
   "metadata": {},
   "source": [
    "This data covers all the users who received at least one notification during the month, whether they actually visited the site during month or not, so we'd expect that the numbers are dominated by a large bulk of users with very few notifications, and that there's a long tail of very few users with a very large number of notifications. \n",
    "\n",
    "But let's characterize that a bit. At each wiki, how many and what percent of users with any notifications got fewer than 5?"
   ]
  },
  {
   "cell_type": "code",
   "execution_count": 5,
   "metadata": {
    "collapsed": false,
    "scrolled": true
   },
   "outputs": [
    {
     "name": "stdout",
     "output_type": "stream",
     "text": [
      "enwiki: 221540 users, 94.6% of total, 54.5% of notifications\n",
      "commonswiki: 106509 users, 98.5% of total, 85.3% of notifications\n",
      "frwiki: 30657 users, 93.1% of total, 44.0% of notifications\n",
      "zhwiki: 8641 users, 90.6% of total, 31.0% of notifications\n",
      "jawiki: 8768 users, 93.6% of total, 55.9% of notifications\n"
     ]
    }
   ],
   "source": [
    "def beyond_threshold(df, wikis, threshold, direction):\n",
    "    for wiki in wikis:\n",
    "        by_wiki = filter_by_wiki(df, wiki)\n",
    "        total_users = by_wiki.iloc[:, 1].sum()\n",
    "        \n",
    "        total_notifs = 0 \n",
    "        for row in by_wiki.iterrows():\n",
    "            total_notifs += row[1][0] * row[1][1]\n",
    "        \n",
    "        if direction == \"under\":\n",
    "            beyond_threshold = by_wiki[ by_wiki.iloc[:, 0] < threshold ]\n",
    "        elif direction == \"over\":\n",
    "            beyond_threshold = by_wiki[ by_wiki.iloc[:, 0] > threshold ]\n",
    "        \n",
    "        users_beyond_threshold = beyond_threshold.iloc[:, 1].sum()\n",
    "        notifs_beyond_threshold = 0\n",
    "                \n",
    "        for row in beyond_threshold.iterrows():\n",
    "            notifs_beyond_threshold += row[1][0] * row[1][1]\n",
    "        \n",
    "        user_proportion = users_beyond_threshold / total_users\n",
    "        notifs_proportion = notifs_beyond_threshold / total_notifs\n",
    "        \n",
    "        print(wiki + \":\", str(users_beyond_threshold) + \" users,\",\n",
    "            str(round(user_proportion * 100, 1)) + \"% of total,\",\n",
    "            str(round(notifs_proportion * 100, 1)) + \"% of notifications\")\n",
    "\n",
    "beyond_threshold( notifs, wikis, 5, \"under\")"
   ]
  },
  {
   "cell_type": "markdown",
   "metadata": {},
   "source": [
    "And what percent of users got 25 notifications or more?"
   ]
  },
  {
   "cell_type": "code",
   "execution_count": 6,
   "metadata": {
    "collapsed": false,
    "scrolled": true
   },
   "outputs": [
    {
     "name": "stdout",
     "output_type": "stream",
     "text": [
      "enwiki: 1837 users, 0.8% of total, 27.3% of notifications\n",
      "commonswiki: 135 users, 0.1% of total, 6.6% of notifications\n",
      "frwiki: 696 users, 2.1% of total, 41.3% of notifications\n",
      "zhwiki: 200 users, 2.1% of total, 38.7% of notifications\n",
      "jawiki: 86 users, 0.9% of total, 23.8% of notifications\n"
     ]
    }
   ],
   "source": [
    "beyond_threshold(notifs, wikis, 24, \"over\")  "
   ]
  },
  {
   "cell_type": "markdown",
   "metadata": {},
   "source": [
    "That's lower than I expected at English Wikipedia. It only had about 1800 users with at least 25 notifications per month, compared to 30,000 active and 3,500 highly active users per month. However, both Flow wikis have substantially higher percentages than the non-Flow wikis.\n",
    "\n",
    "Now, let's look at the actual distributions. To make it easier to comprehend, I'll cut off the 90%+ of users with fewer than 5 notifications. I'll also cut off the users with more than 105. How many is that?"
   ]
  },
  {
   "cell_type": "code",
   "execution_count": 7,
   "metadata": {
    "collapsed": false
   },
   "outputs": [
    {
     "name": "stdout",
     "output_type": "stream",
     "text": [
      "enwiki: 318 users, 0.1% of total, 13.6% of notifications\n",
      "commonswiki: 21 users, 0.0% of total, 2.8% of notifications\n",
      "frwiki: 94 users, 0.3% of total, 19.5% of notifications\n",
      "zhwiki: 19 users, 0.2% of total, 11.8% of notifications\n",
      "jawiki: 10 users, 0.1% of total, 10.0% of notifications\n"
     ]
    }
   ],
   "source": [
    "beyond_threshold(notifs, wikis, 105, \"over\")"
   ]
  },
  {
   "cell_type": "markdown",
   "metadata": {},
   "source": [
    "Now for the graphs:"
   ]
  },
  {
   "cell_type": "code",
   "execution_count": 8,
   "metadata": {
    "collapsed": false,
    "scrolled": true
   },
   "outputs": [
    {
     "data": {
      "image/png": "[encoded data removed]",
      "text/plain": [
       "<matplotlib.figure.Figure at 0x10ae68f98>"
      ]
     },
     "metadata": {},
     "output_type": "display_data"
    }
   ],
   "source": [
    "fig, axarr = plt.subplots( 5, 1, figsize=(12,30) )\n",
    "fig.suptitle(\"Total notifications per user\", fontsize=24)\n",
    "fig.subplots_adjust(top=0.95)\n",
    "i = 0\n",
    "for wiki in wikis:\n",
    "    plot_by_wiki(notifs, wiki, ax = axarr[i])\n",
    "    i = i + 1"
   ]
  },
  {
   "cell_type": "markdown",
   "metadata": {},
   "source": [
    "So, as expected, the non-Flow wikis have a pretty regular [power-law distribution](https://en.wikipedia.org/wiki/Power_law) of notifications. \n",
    "\n",
    "However, over this range that isn't true for the Flow-heavy wikis. Users with 21-25 notifications *substantially* outnumber users with 16-20. I discuss this below.\n",
    "\n",
    "# Unread notifications"
   ]
  },
  {
   "cell_type": "markdown",
   "metadata": {},
   "source": [
    "First, the counts and percentages for various levels of unread notifications.\n",
    "\n",
    "Under 5:"
   ]
  },
  {
   "cell_type": "code",
   "execution_count": 9,
   "metadata": {
    "collapsed": false
   },
   "outputs": [
    {
     "name": "stdout",
     "output_type": "stream",
     "text": [
      "enwiki: 230737 users, 98.5% of total, 75.1% of notifications\n",
      "commonswiki: 107285 users, 99.2% of total, 93.1% of notifications\n",
      "frwiki: 31760 users, 96.5% of total, 51.2% of notifications\n",
      "zhwiki: 8924 users, 93.6% of total, 26.0% of notifications\n",
      "jawiki: 9169 users, 97.9% of total, 71.3% of notifications\n"
     ]
    }
   ],
   "source": [
    "beyond_threshold(unreads, wikis, 5, \"under\")"
   ]
  },
  {
   "cell_type": "markdown",
   "metadata": {},
   "source": [
    "25 or more:"
   ]
  },
  {
   "cell_type": "code",
   "execution_count": 10,
   "metadata": {
    "collapsed": false
   },
   "outputs": [
    {
     "name": "stdout",
     "output_type": "stream",
     "text": [
      "enwiki: 354 users, 0.2% of total, 12.7% of notifications\n",
      "commonswiki: 25 users, 0.0% of total, 1.8% of notifications\n",
      "frwiki: 358 users, 1.1% of total, 32.7% of notifications\n",
      "zhwiki: 136 users, 1.4% of total, 34.9% of notifications\n",
      "jawiki: 26 users, 0.3% of total, 13.8% of notifications\n"
     ]
    }
   ],
   "source": [
    "beyond_threshold(unreads, wikis, 24, \"over\")"
   ]
  },
  {
   "cell_type": "markdown",
   "metadata": {},
   "source": [
    "Over 105:"
   ]
  },
  {
   "cell_type": "code",
   "execution_count": 11,
   "metadata": {
    "collapsed": false
   },
   "outputs": [
    {
     "name": "stdout",
     "output_type": "stream",
     "text": [
      "enwiki: 49 users, 0.0% of total, 6.8% of notifications\n",
      "commonswiki: 4 users, 0.0% of total, 1.0% of notifications\n",
      "frwiki: 39 users, 0.1% of total, 15.3% of notifications\n",
      "zhwiki: 2 users, 0.0% of total, 2.7% of notifications\n",
      "jawiki: 2 users, 0.0% of total, 4.0% of notifications\n"
     ]
    }
   ],
   "source": [
    "beyond_threshold(unreads, wikis, 105, \"over\")"
   ]
  },
  {
   "cell_type": "markdown",
   "metadata": {},
   "source": [
    "Now, the graphs:"
   ]
  },
  {
   "cell_type": "code",
   "execution_count": 12,
   "metadata": {
    "collapsed": false
   },
   "outputs": [
    {
     "data": {
      "image/png": "[encoded data removed]",
      "text/plain": [
       "<matplotlib.figure.Figure at 0x10d4c65c0>"
      ]
     },
     "metadata": {},
     "output_type": "display_data"
    }
   ],
   "source": [
    "fig, axarr = plt.subplots( 5, 1, figsize=(12,30) )\n",
    "fig.suptitle(\"Unread notifications per user\", fontsize=24)\n",
    "fig.subplots_adjust(top=0.95)\n",
    "i = 0\n",
    "for wiki in wikis:\n",
    "    plot_by_wiki(unreads, wiki, ax = axarr[i])\n",
    "    i = i + 1"
   ]
  },
  {
   "cell_type": "markdown",
   "metadata": {},
   "source": [
    "This is a similar pattern as with total notifications, although the [bimodal](https://en.wikipedia.org/wiki/Multimodal_distribution) pattern at the Flow wikis seems even more pronounced."
   ]
  },
  {
   "cell_type": "markdown",
   "metadata": {},
   "source": [
    "# Peaks\n",
    "So why do Flow-heavy wikis display secondary peaks in the distribution?\n",
    "\n",
    "One possibility is they're a natural behavioral effect of Flow. For example, perhaps only a certain subset of users use Flow (whether because they've converted their talk page or because they're watching the Flow-enabled discussion forum), and that once you join this group, you're more likely to get, say, 20 notifications than 10.\n",
    "\n",
    "Another possibility is that they're a software artifact. For example, perhaps some function somewhere treats all cases where a user has at least 25 notifications the same, and ends up actually writing \"25\" to the database in all such cases. \n",
    "\n",
    "Let me zoom in on those peaks."
   ]
  },
  {
   "cell_type": "code",
   "execution_count": 36,
   "metadata": {
    "collapsed": false
   },
   "outputs": [
    {
     "data": {
      "text/html": [
       "<div>\n",
       "<table border=\"1\" class=\"dataframe\">\n",
       "  <thead>\n",
       "    <tr style=\"text-align: right;\">\n",
       "      <th></th>\n",
       "      <th>total notifications</th>\n",
       "      <th>users</th>\n",
       "    </tr>\n",
       "  </thead>\n",
       "  <tbody>\n",
       "    <tr>\n",
       "      <th>617</th>\n",
       "      <td>15</td>\n",
       "      <td>11</td>\n",
       "    </tr>\n",
       "    <tr>\n",
       "      <th>618</th>\n",
       "      <td>16</td>\n",
       "      <td>7</td>\n",
       "    </tr>\n",
       "    <tr>\n",
       "      <th>619</th>\n",
       "      <td>17</td>\n",
       "      <td>14</td>\n",
       "    </tr>\n",
       "    <tr>\n",
       "      <th>620</th>\n",
       "      <td>18</td>\n",
       "      <td>6</td>\n",
       "    </tr>\n",
       "    <tr>\n",
       "      <th>621</th>\n",
       "      <td>19</td>\n",
       "      <td>5</td>\n",
       "    </tr>\n",
       "    <tr>\n",
       "      <th>622</th>\n",
       "      <td>20</td>\n",
       "      <td>7</td>\n",
       "    </tr>\n",
       "    <tr>\n",
       "      <th>623</th>\n",
       "      <td>21</td>\n",
       "      <td>5</td>\n",
       "    </tr>\n",
       "    <tr>\n",
       "      <th>624</th>\n",
       "      <td>22</td>\n",
       "      <td>7</td>\n",
       "    </tr>\n",
       "    <tr>\n",
       "      <th>625</th>\n",
       "      <td>23</td>\n",
       "      <td>230</td>\n",
       "    </tr>\n",
       "    <tr>\n",
       "      <th>626</th>\n",
       "      <td>24</td>\n",
       "      <td>13</td>\n",
       "    </tr>\n",
       "    <tr>\n",
       "      <th>627</th>\n",
       "      <td>25</td>\n",
       "      <td>2</td>\n",
       "    </tr>\n",
       "    <tr>\n",
       "      <th>628</th>\n",
       "      <td>26</td>\n",
       "      <td>3</td>\n",
       "    </tr>\n",
       "    <tr>\n",
       "      <th>629</th>\n",
       "      <td>27</td>\n",
       "      <td>5</td>\n",
       "    </tr>\n",
       "    <tr>\n",
       "      <th>630</th>\n",
       "      <td>28</td>\n",
       "      <td>9</td>\n",
       "    </tr>\n",
       "    <tr>\n",
       "      <th>631</th>\n",
       "      <td>29</td>\n",
       "      <td>4</td>\n",
       "    </tr>\n",
       "  </tbody>\n",
       "</table>\n",
       "</div>"
      ],
      "text/plain": [
       "     total notifications  users\n",
       "617                   15     11\n",
       "618                   16      7\n",
       "619                   17     14\n",
       "620                   18      6\n",
       "621                   19      5\n",
       "622                   20      7\n",
       "623                   21      5\n",
       "624                   22      7\n",
       "625                   23    230\n",
       "626                   24     13\n",
       "627                   25      2\n",
       "628                   26      3\n",
       "629                   27      5\n",
       "630                   28      9\n",
       "631                   29      4"
      ]
     },
     "execution_count": 36,
     "metadata": {},
     "output_type": "execute_result"
    }
   ],
   "source": [
    "zh = filter_by_wiki( notifs, \"zhwiki\" )\n",
    "zh[ (zh[\"total notifications\"] >= 15) & (zh[\"total notifications\"] < 30) ]"
   ]
  },
  {
   "cell_type": "code",
   "execution_count": 38,
   "metadata": {
    "collapsed": false
   },
   "outputs": [
    {
     "data": {
      "text/html": [
       "<div>\n",
       "<table border=\"1\" class=\"dataframe\">\n",
       "  <thead>\n",
       "    <tr style=\"text-align: right;\">\n",
       "      <th></th>\n",
       "      <th>total notifications</th>\n",
       "      <th>users</th>\n",
       "    </tr>\n",
       "  </thead>\n",
       "  <tbody>\n",
       "    <tr>\n",
       "      <th>447</th>\n",
       "      <td>15</td>\n",
       "      <td>44</td>\n",
       "    </tr>\n",
       "    <tr>\n",
       "      <th>448</th>\n",
       "      <td>16</td>\n",
       "      <td>23</td>\n",
       "    </tr>\n",
       "    <tr>\n",
       "      <th>449</th>\n",
       "      <td>17</td>\n",
       "      <td>20</td>\n",
       "    </tr>\n",
       "    <tr>\n",
       "      <th>450</th>\n",
       "      <td>18</td>\n",
       "      <td>22</td>\n",
       "    </tr>\n",
       "    <tr>\n",
       "      <th>451</th>\n",
       "      <td>19</td>\n",
       "      <td>16</td>\n",
       "    </tr>\n",
       "    <tr>\n",
       "      <th>452</th>\n",
       "      <td>20</td>\n",
       "      <td>190</td>\n",
       "    </tr>\n",
       "    <tr>\n",
       "      <th>453</th>\n",
       "      <td>21</td>\n",
       "      <td>25</td>\n",
       "    </tr>\n",
       "    <tr>\n",
       "      <th>454</th>\n",
       "      <td>22</td>\n",
       "      <td>24</td>\n",
       "    </tr>\n",
       "    <tr>\n",
       "      <th>455</th>\n",
       "      <td>23</td>\n",
       "      <td>11</td>\n",
       "    </tr>\n",
       "    <tr>\n",
       "      <th>456</th>\n",
       "      <td>24</td>\n",
       "      <td>12</td>\n",
       "    </tr>\n",
       "    <tr>\n",
       "      <th>457</th>\n",
       "      <td>25</td>\n",
       "      <td>186</td>\n",
       "    </tr>\n",
       "    <tr>\n",
       "      <th>458</th>\n",
       "      <td>26</td>\n",
       "      <td>13</td>\n",
       "    </tr>\n",
       "    <tr>\n",
       "      <th>459</th>\n",
       "      <td>27</td>\n",
       "      <td>17</td>\n",
       "    </tr>\n",
       "    <tr>\n",
       "      <th>460</th>\n",
       "      <td>28</td>\n",
       "      <td>12</td>\n",
       "    </tr>\n",
       "    <tr>\n",
       "      <th>461</th>\n",
       "      <td>29</td>\n",
       "      <td>17</td>\n",
       "    </tr>\n",
       "  </tbody>\n",
       "</table>\n",
       "</div>"
      ],
      "text/plain": [
       "     total notifications  users\n",
       "447                   15     44\n",
       "448                   16     23\n",
       "449                   17     20\n",
       "450                   18     22\n",
       "451                   19     16\n",
       "452                   20    190\n",
       "453                   21     25\n",
       "454                   22     24\n",
       "455                   23     11\n",
       "456                   24     12\n",
       "457                   25    186\n",
       "458                   26     13\n",
       "459                   27     17\n",
       "460                   28     12\n",
       "461                   29     17"
      ]
     },
     "execution_count": 38,
     "metadata": {},
     "output_type": "execute_result"
    }
   ],
   "source": [
    "fr = filter_by_wiki( notifs, \"frwiki\" )\n",
    "fr[ (fr[\"total notifications\"] >= 15) & (fr[\"total notifications\"] < 30) ]"
   ]
  },
  {
   "cell_type": "markdown",
   "metadata": {},
   "source": [
    "So these peaks seem to be \"sharp\" rather than \"smooth\", which suggests they're a software artifact rather than an underlying phenomenon. At frwiki, the peaks are at 20 and 25, which suggests the same thing since programmers are likely to place artificial cut-offs at round numbers. At zhwiki, the peak is at 23, which is much odder. However, a software artifact still seems the most likely explanation."
   ]
  }
 ],
 "metadata": {
  "kernelspec": {
   "display_name": "Python 3",
   "language": "python",
   "name": "python3"
  },
  "language_info": {
   "codemirror_mode": {
    "name": "ipython",
    "version": 3
   },
   "file_extension": ".py",
   "mimetype": "text/x-python",
   "name": "python",
   "nbconvert_exporter": "python",
   "pygments_lexer": "ipython3",
   "version": "3.5.1"
  }
 },
 "nbformat": 4,
 "nbformat_minor": 0
}
