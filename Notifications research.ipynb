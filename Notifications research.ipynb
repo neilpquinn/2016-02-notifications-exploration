{
 "cells": [
  {
   "cell_type": "markdown",
   "metadata": {
    "collapsed": true
   },
   "source": [
    "# Summary\n",
    "*Note: In all cases, the number of notifications is per month, and the percentages are out of the total number of users who received any notifications, or the total number of notifications received.*\n",
    "\n",
    "The distribution of notifications seems largely to follow a long-tailed [power law](https://en.wikipedia.org/wiki/Power_law) distribution. Almost all users receive very few (about 94% get from 1 to 4), while a very small number of highly-active users account for a large number of notifications (with 1-2% of users receiving 25 or more per month, and about 0.1% receiving 10-15% of the total notifications). \n",
    "\n",
    "The wikis I studied fell into three main groups:\n",
    "* English Wikipedia and Japanese Wikipedia, which I expect represent \"normal\" large wikis. \n",
    "* Commons, where the number of highly-notified users is particularly small (98.5% of users receive 1 to 4 notifications, and 0.1% receive 25 or more). \n",
    "* French Wikipedia and Chinese Wikipedia, where Flow is used heavily. Both these wikis have a somewhat larger proportion of users with many notifications, largely because of substantial bump in the proportion of users with who get 20–30 notifications per month.\n",
    "\n",
    "I would suggest the following conclusions based on this data:\n",
    "* It is not worth investing significant resources into notification management tools (other than better bundling) until Flow or similar products are rolled out to more wikis.\n",
    "* It may be worth investigating the small subset of users who receive a very high number of notifications to learn more about their habits. For example, they may be bots, or as highly-active users they may feel that they badly need better notification management."
   ]
  },
  {
   "cell_type": "markdown",
   "metadata": {},
   "source": [
    "# Data collection\n",
    "## Choice of wikis ##\n",
    "I chose to look at notification use on five different wikis:\n",
    "* Commons (commonswiki)\n",
    "* English Wikipedia (enwiki)\n",
    "* Japanese Wikipedia (jawiki), \n",
    "* French Wikipedia (frwiki)\n",
    "* Chinese Wikipedia (zhwiki).\n",
    "\n",
    "Commons, enwiki, and jawiki represent \"normal\" large wikis; on the other hand, frwiki and zhwiki are relatively heavy users of [Flow](https://www.mediawiki.org/wiki/Flow) (frwiki at its central discussion board and zhwiki on user talk pages). Flow generates a large number of notifications but is not in use at many wikis; in making heavy use of notifications, it represents the likely future direction of MediaWiki software.\n",
    "\n",
    "## SQL ##\n",
    "The data was generated from the [Echo extension's](https://www.mediawiki.org/wiki/Notifications) database tables using the following queries:\n",
    "\n",
    "**Total notifications**\n",
    "```\n",
    "SELECT \n",
    "\tDATABASE() as \"wiki\",\n",
    "\t`notifications`,\n",
    "\t COUNT(*) as \"users\"\n",
    "FROM\n",
    "(\n",
    "\tSELECT\n",
    "\t\tCOUNT(*) as \"notifications\"\n",
    "\tFROM echo_notification\n",
    "\tWHERE\n",
    "\t\tnotification_timestamp > \"20160111\" AND\n",
    "\t\tnotification_timestamp < \"20160210\" AND\n",
    "        notification_bundle_base = 1\n",
    "\tGROUP BY notification_user\n",
    ") notifications_by_user\n",
    "GROUP BY `notifications`;\n",
    "```\n",
    "\n",
    "**Unread notifications**\n",
    "```\n",
    "SELECT\n",
    "\tDATABASE() as \"wiki\",\n",
    "\t`unread notifications`,\n",
    "\t COUNT(*) as \"users\"\n",
    "FROM\n",
    "(\n",
    "\tSELECT\n",
    "\t\tSUM( IF( notification_read_timestamp IS NULL, 1, 0) ) as \"unread notifications\"\n",
    "\tFROM echo_notification\n",
    "\tWHERE\n",
    "\t\tnotification_timestamp > \"20160111\" AND\n",
    "\t\tnotification_timestamp < \"20160210\" AND\n",
    "        notification_bundle_base = 1\n",
    "\tGROUP BY notification_user\n",
    ") notifications_by_user\n",
    "GROUP BY `unread notifications`;\n",
    "```\n",
    "I gathered the results from the 5 different wikis using [multiquery](https://github.com/halfak/multiquery) with the following command:\n",
    "\n",
    "```\n",
    "$ multiquery {{sql file}} --dbnames=notifications_dbs.tsv --host=x1-analytics-slave.eqiad.wmnet --defaults-file=~/.my.cnf > {{output file}}\n",
    "```\n",
    "\n",
    "I ran the unread query on 23 March, so the unread counts reflect notifications from the month which were still unread 40 days after it ended. Therefore, those counts likely reflect notifications which can be considered permanently unread.\n",
    "\n",
    "## Notification bundling ##\n",
    "The queries which follow include `notification_bundle_base = 1` to exclude \"bundled\" notifications, which (1) don't behave as a standalone notifications from the user's point of view and (2) are never directly marked as read in the database (instead their read status is computed \n",
    "\n",
    "There are downsides to this approach. The bundled notifications are real notifications (although they're generally less interesting to the user than stand-alone notifications), and omitting them will undercount notification activity. However, the largest purpose of this study is to understand whether users are currently overloaded with notifications, and bundling is an effective toal for reducing that load. In addition, the number of *unread* notifications is an important part of this study, and the logic used to determine whether a bundled notification has been read is far too complex to reimplement her.\n",
    "\n",
    "This change dramatically affects the results relating to unread notifications; a [previous version](https://github.com/neilpquinn/2016-02-notifications-exploration/blob/8d2bfbd848afe22a1dc178ad1abfc760a6673352/Notifications%20research.ipynb) of this study found that, for example, 19% of enwiki users with at least 25 notifications had at least 25 *unread* notifications. By excluding bundled notifications, that figures goes down to 2%."
   ]
  },
  {
   "cell_type": "code",
   "execution_count": 1,
   "metadata": {
    "collapsed": true
   },
   "outputs": [],
   "source": [
    "import pandas as pd\n",
    "import numpy as np\n",
    "import matplotlib.pyplot as plt\n",
    "import matplotlib.axes as ax\n",
    "\n",
    "%matplotlib inline"
   ]
  },
  {
   "cell_type": "code",
   "execution_count": 2,
   "metadata": {
    "collapsed": false
   },
   "outputs": [
    {
     "data": {
      "text/html": [
       "<div>\n",
       "<table border=\"1\" class=\"dataframe\">\n",
       "  <thead>\n",
       "    <tr style=\"text-align: right;\">\n",
       "      <th></th>\n",
       "      <th>wiki</th>\n",
       "      <th>notifications</th>\n",
       "      <th>users</th>\n",
       "    </tr>\n",
       "  </thead>\n",
       "  <tbody>\n",
       "    <tr>\n",
       "      <th>580</th>\n",
       "      <td>zhwiki</td>\n",
       "      <td>168</td>\n",
       "      <td>1</td>\n",
       "    </tr>\n",
       "    <tr>\n",
       "      <th>581</th>\n",
       "      <td>zhwiki</td>\n",
       "      <td>182</td>\n",
       "      <td>1</td>\n",
       "    </tr>\n",
       "    <tr>\n",
       "      <th>582</th>\n",
       "      <td>zhwiki</td>\n",
       "      <td>231</td>\n",
       "      <td>1</td>\n",
       "    </tr>\n",
       "    <tr>\n",
       "      <th>583</th>\n",
       "      <td>zhwiki</td>\n",
       "      <td>264</td>\n",
       "      <td>1</td>\n",
       "    </tr>\n",
       "    <tr>\n",
       "      <th>584</th>\n",
       "      <td>zhwiki</td>\n",
       "      <td>378</td>\n",
       "      <td>1</td>\n",
       "    </tr>\n",
       "  </tbody>\n",
       "</table>\n",
       "</div>"
      ],
      "text/plain": [
       "       wiki  notifications  users\n",
       "580  zhwiki            168      1\n",
       "581  zhwiki            182      1\n",
       "582  zhwiki            231      1\n",
       "583  zhwiki            264      1\n",
       "584  zhwiki            378      1"
      ]
     },
     "execution_count": 2,
     "metadata": {},
     "output_type": "execute_result"
    }
   ],
   "source": [
    "notifs = pd.read_table(\"./notifications_per_user.tsv\")\n",
    "unreads = pd.read_table(\"./unread_notifications_per_user.tsv\")\n",
    "wikis = set(notifs[\"wiki\"])\n",
    "\n",
    "notifs.tail()"
   ]
  },
  {
   "cell_type": "code",
   "execution_count": 3,
   "metadata": {
    "collapsed": true
   },
   "outputs": [],
   "source": [
    "def filter_by_wiki( df, wiki ):\n",
    "    return df[ df[\"wiki\"] == wiki ].iloc[:, 1:3]\n",
    "\n",
    "def plot_by_wiki( df, wiki, range = (5, 104), bins = 20, ax = plt ): \n",
    "    dist = filter_by_wiki( df, wiki )\n",
    "    ax.hist( dist.iloc[:, 0], bins = bins, range = range, weights = dist.iloc[:, 1])\n",
    "    ax.set_title(wiki)\n",
    "    ax.set_xlabel( \"Number of notifications\" )\n",
    "    ax.set_ylabel( \"Users\" )"
   ]
  },
  {
   "cell_type": "markdown",
   "metadata": {},
   "source": [
    "# Total notifications"
   ]
  },
  {
   "cell_type": "markdown",
   "metadata": {},
   "source": [
    "This data covers all the users who received at least one notification during the month, whether they actually visited the site during month or not, so we'd expect that the numbers are dominated by a large bulk of users with very few notifications, and that there's a long tail of very few users with a very large number of notifications. \n",
    "\n",
    "But let's characterize that a bit. At each wiki, how many and what percent of users with any notifications got fewer than 5?"
   ]
  },
  {
   "cell_type": "code",
   "execution_count": 4,
   "metadata": {
    "collapsed": false
   },
   "outputs": [
    {
     "data": {
      "text/html": [
       "<div>\n",
       "<table border=\"1\" class=\"dataframe\">\n",
       "  <thead>\n",
       "    <tr style=\"text-align: right;\">\n",
       "      <th></th>\n",
       "      <th>wiki</th>\n",
       "      <th>users</th>\n",
       "      <th>% of users</th>\n",
       "      <th>% of notifications</th>\n",
       "    </tr>\n",
       "  </thead>\n",
       "  <tbody>\n",
       "    <tr>\n",
       "      <th>0</th>\n",
       "      <td>frwiki</td>\n",
       "      <td>30750</td>\n",
       "      <td>95.9</td>\n",
       "      <td>60.9</td>\n",
       "    </tr>\n",
       "    <tr>\n",
       "      <th>1</th>\n",
       "      <td>zhwiki</td>\n",
       "      <td>8642</td>\n",
       "      <td>96.2</td>\n",
       "      <td>57.3</td>\n",
       "    </tr>\n",
       "    <tr>\n",
       "      <th>2</th>\n",
       "      <td>jawiki</td>\n",
       "      <td>8643</td>\n",
       "      <td>95.0</td>\n",
       "      <td>63.7</td>\n",
       "    </tr>\n",
       "    <tr>\n",
       "      <th>3</th>\n",
       "      <td>enwiki</td>\n",
       "      <td>221595</td>\n",
       "      <td>96.1</td>\n",
       "      <td>62.4</td>\n",
       "    </tr>\n",
       "    <tr>\n",
       "      <th>4</th>\n",
       "      <td>commonswiki</td>\n",
       "      <td>106027</td>\n",
       "      <td>99.4</td>\n",
       "      <td>90.6</td>\n",
       "    </tr>\n",
       "  </tbody>\n",
       "</table>\n",
       "</div>"
      ],
      "text/plain": [
       "          wiki   users  % of users  % of notifications\n",
       "0       frwiki   30750        95.9                60.9\n",
       "1       zhwiki    8642        96.2                57.3\n",
       "2       jawiki    8643        95.0                63.7\n",
       "3       enwiki  221595        96.1                62.4\n",
       "4  commonswiki  106027        99.4                90.6"
      ]
     },
     "execution_count": 4,
     "metadata": {},
     "output_type": "execute_result"
    }
   ],
   "source": [
    "def beyond_threshold(df, wikis, threshold, direction):\n",
    "    columns = [\n",
    "    \"wiki\",\n",
    "    \"users\",\n",
    "    \"% of users\",\n",
    "    \"% of notifications\"\n",
    "    ]\n",
    "    \n",
    "    results = []\n",
    "    \n",
    "    for wiki in wikis:\n",
    "        by_wiki = filter_by_wiki(df, wiki)\n",
    "        total_users = by_wiki.iloc[:, 1].sum()\n",
    "        \n",
    "        total_notifs = 0 \n",
    "        for row in by_wiki.iterrows():\n",
    "            total_notifs += row[1][0] * row[1][1]\n",
    "        \n",
    "        if direction == \"under\":\n",
    "            beyond_threshold = by_wiki[ by_wiki.iloc[:, 0] < threshold ]\n",
    "        elif direction == \"over\":\n",
    "            beyond_threshold = by_wiki[ by_wiki.iloc[:, 0] > threshold ]\n",
    "        \n",
    "        users_beyond_threshold = beyond_threshold.iloc[:, 1].sum()\n",
    "        notifs_beyond_threshold = 0\n",
    "                \n",
    "        for row in beyond_threshold.iterrows():\n",
    "            notifs_beyond_threshold += row[1][0] * row[1][1]\n",
    "        \n",
    "        user_proportion = users_beyond_threshold / total_users\n",
    "        notifs_proportion = notifs_beyond_threshold / total_notifs\n",
    "        \n",
    "        results.append([\n",
    "            wiki, \n",
    "            users_beyond_threshold,\n",
    "            round(user_proportion * 100, 1),\n",
    "            round(notifs_proportion * 100, 1)\n",
    "        ])\n",
    "    \n",
    "    results = pd.DataFrame(results, columns=columns)\n",
    "    return results\n",
    "\n",
    "beyond_threshold( notifs, wikis, 5, \"under\")"
   ]
  },
  {
   "cell_type": "markdown",
   "metadata": {},
   "source": [
    "And what percent of users got 30 notifications or more—becoming \"daily notified\"?"
   ]
  },
  {
   "cell_type": "code",
   "execution_count": 5,
   "metadata": {
    "collapsed": false
   },
   "outputs": [
    {
     "data": {
      "text/html": [
       "<div>\n",
       "<table border=\"1\" class=\"dataframe\">\n",
       "  <thead>\n",
       "    <tr style=\"text-align: right;\">\n",
       "      <th></th>\n",
       "      <th>wiki</th>\n",
       "      <th>users</th>\n",
       "      <th>% of users</th>\n",
       "      <th>% of notifications</th>\n",
       "    </tr>\n",
       "  </thead>\n",
       "  <tbody>\n",
       "    <tr>\n",
       "      <th>0</th>\n",
       "      <td>frwiki</td>\n",
       "      <td>297</td>\n",
       "      <td>0.9</td>\n",
       "      <td>26.2</td>\n",
       "    </tr>\n",
       "    <tr>\n",
       "      <th>1</th>\n",
       "      <td>zhwiki</td>\n",
       "      <td>68</td>\n",
       "      <td>0.8</td>\n",
       "      <td>27.1</td>\n",
       "    </tr>\n",
       "    <tr>\n",
       "      <th>2</th>\n",
       "      <td>jawiki</td>\n",
       "      <td>45</td>\n",
       "      <td>0.5</td>\n",
       "      <td>15.7</td>\n",
       "    </tr>\n",
       "    <tr>\n",
       "      <th>3</th>\n",
       "      <td>enwiki</td>\n",
       "      <td>1196</td>\n",
       "      <td>0.5</td>\n",
       "      <td>20.9</td>\n",
       "    </tr>\n",
       "    <tr>\n",
       "      <th>4</th>\n",
       "      <td>commonswiki</td>\n",
       "      <td>91</td>\n",
       "      <td>0.1</td>\n",
       "      <td>5.6</td>\n",
       "    </tr>\n",
       "  </tbody>\n",
       "</table>\n",
       "</div>"
      ],
      "text/plain": [
       "          wiki  users  % of users  % of notifications\n",
       "0       frwiki    297         0.9                26.2\n",
       "1       zhwiki     68         0.8                27.1\n",
       "2       jawiki     45         0.5                15.7\n",
       "3       enwiki   1196         0.5                20.9\n",
       "4  commonswiki     91         0.1                 5.6"
      ]
     },
     "execution_count": 5,
     "metadata": {},
     "output_type": "execute_result"
    }
   ],
   "source": [
    "beyond_threshold(notifs, wikis, 29, \"over\")  "
   ]
  },
  {
   "cell_type": "markdown",
   "metadata": {},
   "source": [
    "That's lower than I expected at English Wikipedia. It only had about 1500 users with at least 25 notifications per month, compared to 30,000 active and 3,500 highly active users per month. However, both Flow wikis have higher percentages than the non-Flow wikis.\n",
    "\n",
    "Now, let's look at the actual distributions. To make it easier to comprehend, I'll cut off the 90%+ of users with fewer than 5 notifications. I'll also cut off the users with 100 or more. How many is that?"
   ]
  },
  {
   "cell_type": "code",
   "execution_count": 6,
   "metadata": {
    "collapsed": false
   },
   "outputs": [
    {
     "data": {
      "text/html": [
       "<div>\n",
       "<table border=\"1\" class=\"dataframe\">\n",
       "  <thead>\n",
       "    <tr style=\"text-align: right;\">\n",
       "      <th></th>\n",
       "      <th>wiki</th>\n",
       "      <th>users</th>\n",
       "      <th>% of users</th>\n",
       "      <th>% of notifications</th>\n",
       "    </tr>\n",
       "  </thead>\n",
       "  <tbody>\n",
       "    <tr>\n",
       "      <th>0</th>\n",
       "      <td>frwiki</td>\n",
       "      <td>57</td>\n",
       "      <td>0.2</td>\n",
       "      <td>11.2</td>\n",
       "    </tr>\n",
       "    <tr>\n",
       "      <th>1</th>\n",
       "      <td>zhwiki</td>\n",
       "      <td>9</td>\n",
       "      <td>0.1</td>\n",
       "      <td>9.9</td>\n",
       "    </tr>\n",
       "    <tr>\n",
       "      <th>2</th>\n",
       "      <td>jawiki</td>\n",
       "      <td>6</td>\n",
       "      <td>0.1</td>\n",
       "      <td>6.5</td>\n",
       "    </tr>\n",
       "    <tr>\n",
       "      <th>3</th>\n",
       "      <td>enwiki</td>\n",
       "      <td>251</td>\n",
       "      <td>0.1</td>\n",
       "      <td>10.0</td>\n",
       "    </tr>\n",
       "    <tr>\n",
       "      <th>4</th>\n",
       "      <td>commonswiki</td>\n",
       "      <td>19</td>\n",
       "      <td>0.0</td>\n",
       "      <td>2.8</td>\n",
       "    </tr>\n",
       "  </tbody>\n",
       "</table>\n",
       "</div>"
      ],
      "text/plain": [
       "          wiki  users  % of users  % of notifications\n",
       "0       frwiki     57         0.2                11.2\n",
       "1       zhwiki      9         0.1                 9.9\n",
       "2       jawiki      6         0.1                 6.5\n",
       "3       enwiki    251         0.1                10.0\n",
       "4  commonswiki     19         0.0                 2.8"
      ]
     },
     "execution_count": 6,
     "metadata": {},
     "output_type": "execute_result"
    }
   ],
   "source": [
    "beyond_threshold(notifs, wikis, 99, \"over\")"
   ]
  },
  {
   "cell_type": "markdown",
   "metadata": {},
   "source": [
    "Now for the graphs:"
   ]
  },
  {
   "cell_type": "code",
   "execution_count": 7,
   "metadata": {
    "collapsed": false,
    "scrolled": true
   },
   "outputs": [
    {
     "data": {
      "image/png": "[encoded data removed]",
      "text/plain": [
       "<matplotlib.figure.Figure at 0x10d8738d0>"
      ]
     },
     "metadata": {},
     "output_type": "display_data"
    }
   ],
   "source": [
    "fig, axarr = plt.subplots( 5, 1, figsize=(12,30) )\n",
    "fig.suptitle(\"Total notifications per user\", fontsize=24)\n",
    "fig.subplots_adjust(top=0.95)\n",
    "i = 0\n",
    "for wiki in wikis:\n",
    "    plot_by_wiki(notifs, wiki, ax = axarr[i])\n",
    "    i = i + 1"
   ]
  },
  {
   "cell_type": "markdown",
   "metadata": {},
   "source": [
    "So, as expected, all the wikis have a pretty regular [power-law distribution](https://en.wikipedia.org/wiki/Power_law) of notifications. \n",
    "\n",
    "# Unread notifications"
   ]
  },
  {
   "cell_type": "markdown",
   "metadata": {},
   "source": [
    "First, the counts and percentages for various levels of unread notifications.\n",
    "\n",
    "Under 5:"
   ]
  },
  {
   "cell_type": "code",
   "execution_count": 8,
   "metadata": {
    "collapsed": false
   },
   "outputs": [
    {
     "data": {
      "text/html": [
       "<div>\n",
       "<table border=\"1\" class=\"dataframe\">\n",
       "  <thead>\n",
       "    <tr style=\"text-align: right;\">\n",
       "      <th></th>\n",
       "      <th>wiki</th>\n",
       "      <th>users</th>\n",
       "      <th>% of users</th>\n",
       "      <th>% of notifications</th>\n",
       "    </tr>\n",
       "  </thead>\n",
       "  <tbody>\n",
       "    <tr>\n",
       "      <th>0</th>\n",
       "      <td>frwiki</td>\n",
       "      <td>32009</td>\n",
       "      <td>99.8</td>\n",
       "      <td>97.3</td>\n",
       "    </tr>\n",
       "    <tr>\n",
       "      <th>1</th>\n",
       "      <td>zhwiki</td>\n",
       "      <td>8967</td>\n",
       "      <td>99.8</td>\n",
       "      <td>95.1</td>\n",
       "    </tr>\n",
       "    <tr>\n",
       "      <th>2</th>\n",
       "      <td>jawiki</td>\n",
       "      <td>9068</td>\n",
       "      <td>99.7</td>\n",
       "      <td>95.1</td>\n",
       "    </tr>\n",
       "    <tr>\n",
       "      <th>3</th>\n",
       "      <td>enwiki</td>\n",
       "      <td>230200</td>\n",
       "      <td>99.9</td>\n",
       "      <td>96.1</td>\n",
       "    </tr>\n",
       "    <tr>\n",
       "      <th>4</th>\n",
       "      <td>commonswiki</td>\n",
       "      <td>106625</td>\n",
       "      <td>100.0</td>\n",
       "      <td>98.9</td>\n",
       "    </tr>\n",
       "  </tbody>\n",
       "</table>\n",
       "</div>"
      ],
      "text/plain": [
       "          wiki   users  % of users  % of notifications\n",
       "0       frwiki   32009        99.8                97.3\n",
       "1       zhwiki    8967        99.8                95.1\n",
       "2       jawiki    9068        99.7                95.1\n",
       "3       enwiki  230200        99.9                96.1\n",
       "4  commonswiki  106625       100.0                98.9"
      ]
     },
     "execution_count": 8,
     "metadata": {},
     "output_type": "execute_result"
    }
   ],
   "source": [
    "beyond_threshold(unreads, wikis, 5, \"under\")"
   ]
  },
  {
   "cell_type": "markdown",
   "metadata": {},
   "source": [
    "30 or more (daily notified):"
   ]
  },
  {
   "cell_type": "code",
   "execution_count": 9,
   "metadata": {
    "collapsed": false
   },
   "outputs": [
    {
     "data": {
      "text/html": [
       "<div>\n",
       "<table border=\"1\" class=\"dataframe\">\n",
       "  <thead>\n",
       "    <tr style=\"text-align: right;\">\n",
       "      <th></th>\n",
       "      <th>wiki</th>\n",
       "      <th>users</th>\n",
       "      <th>% of users</th>\n",
       "      <th>% of notifications</th>\n",
       "    </tr>\n",
       "  </thead>\n",
       "  <tbody>\n",
       "    <tr>\n",
       "      <th>0</th>\n",
       "      <td>frwiki</td>\n",
       "      <td>7</td>\n",
       "      <td>0.0</td>\n",
       "      <td>1.4</td>\n",
       "    </tr>\n",
       "    <tr>\n",
       "      <th>1</th>\n",
       "      <td>zhwiki</td>\n",
       "      <td>1</td>\n",
       "      <td>0.0</td>\n",
       "      <td>1.4</td>\n",
       "    </tr>\n",
       "    <tr>\n",
       "      <th>2</th>\n",
       "      <td>jawiki</td>\n",
       "      <td>1</td>\n",
       "      <td>0.0</td>\n",
       "      <td>0.8</td>\n",
       "    </tr>\n",
       "    <tr>\n",
       "      <th>3</th>\n",
       "      <td>enwiki</td>\n",
       "      <td>26</td>\n",
       "      <td>0.0</td>\n",
       "      <td>2.2</td>\n",
       "    </tr>\n",
       "    <tr>\n",
       "      <th>4</th>\n",
       "      <td>commonswiki</td>\n",
       "      <td>3</td>\n",
       "      <td>0.0</td>\n",
       "      <td>1.0</td>\n",
       "    </tr>\n",
       "  </tbody>\n",
       "</table>\n",
       "</div>"
      ],
      "text/plain": [
       "          wiki  users  % of users  % of notifications\n",
       "0       frwiki      7         0.0                 1.4\n",
       "1       zhwiki      1         0.0                 1.4\n",
       "2       jawiki      1         0.0                 0.8\n",
       "3       enwiki     26         0.0                 2.2\n",
       "4  commonswiki      3         0.0                 1.0"
      ]
     },
     "execution_count": 9,
     "metadata": {},
     "output_type": "execute_result"
    }
   ],
   "source": [
    "beyond_threshold(unreads, wikis, 29, \"over\")"
   ]
  },
  {
   "cell_type": "markdown",
   "metadata": {},
   "source": [
    "100 or more:"
   ]
  },
  {
   "cell_type": "code",
   "execution_count": 10,
   "metadata": {
    "collapsed": false
   },
   "outputs": [
    {
     "data": {
      "text/html": [
       "<div>\n",
       "<table border=\"1\" class=\"dataframe\">\n",
       "  <thead>\n",
       "    <tr style=\"text-align: right;\">\n",
       "      <th></th>\n",
       "      <th>wiki</th>\n",
       "      <th>users</th>\n",
       "      <th>% of users</th>\n",
       "      <th>% of notifications</th>\n",
       "    </tr>\n",
       "  </thead>\n",
       "  <tbody>\n",
       "    <tr>\n",
       "      <th>0</th>\n",
       "      <td>frwiki</td>\n",
       "      <td>1</td>\n",
       "      <td>0.0</td>\n",
       "      <td>0.5</td>\n",
       "    </tr>\n",
       "    <tr>\n",
       "      <th>1</th>\n",
       "      <td>zhwiki</td>\n",
       "      <td>0</td>\n",
       "      <td>0.0</td>\n",
       "      <td>0.0</td>\n",
       "    </tr>\n",
       "    <tr>\n",
       "      <th>2</th>\n",
       "      <td>jawiki</td>\n",
       "      <td>0</td>\n",
       "      <td>0.0</td>\n",
       "      <td>0.0</td>\n",
       "    </tr>\n",
       "    <tr>\n",
       "      <th>3</th>\n",
       "      <td>enwiki</td>\n",
       "      <td>9</td>\n",
       "      <td>0.0</td>\n",
       "      <td>1.6</td>\n",
       "    </tr>\n",
       "    <tr>\n",
       "      <th>4</th>\n",
       "      <td>commonswiki</td>\n",
       "      <td>3</td>\n",
       "      <td>0.0</td>\n",
       "      <td>1.0</td>\n",
       "    </tr>\n",
       "  </tbody>\n",
       "</table>\n",
       "</div>"
      ],
      "text/plain": [
       "          wiki  users  % of users  % of notifications\n",
       "0       frwiki      1         0.0                 0.5\n",
       "1       zhwiki      0         0.0                 0.0\n",
       "2       jawiki      0         0.0                 0.0\n",
       "3       enwiki      9         0.0                 1.6\n",
       "4  commonswiki      3         0.0                 1.0"
      ]
     },
     "execution_count": 10,
     "metadata": {},
     "output_type": "execute_result"
    }
   ],
   "source": [
    "beyond_threshold(unreads, wikis, 99, \"over\")"
   ]
  },
  {
   "cell_type": "markdown",
   "metadata": {},
   "source": [
    "Now, the graphs:"
   ]
  },
  {
   "cell_type": "code",
   "execution_count": 11,
   "metadata": {
    "collapsed": false
   },
   "outputs": [
    {
     "data": {
      "image/png": "[encoded data removed]",
      "text/plain": [
       "<matplotlib.figure.Figure at 0x10d871b38>"
      ]
     },
     "metadata": {},
     "output_type": "display_data"
    }
   ],
   "source": [
    "fig, axarr = plt.subplots( 5, 1, figsize=(12,30) )\n",
    "fig.suptitle(\"Unread notifications per user\", fontsize=24)\n",
    "fig.subplots_adjust(top=0.95)\n",
    "i = 0\n",
    "for wiki in wikis:\n",
    "    plot_by_wiki(unreads, wiki, ax = axarr[i])\n",
    "    i = i + 1"
   ]
  }
 ],
 "metadata": {
  "kernelspec": {
   "display_name": "Python 3",
   "language": "python",
   "name": "python3"
  },
  "language_info": {
   "codemirror_mode": {
    "name": "ipython",
    "version": 3
   },
   "file_extension": ".py",
   "mimetype": "text/x-python",
   "name": "python",
   "nbconvert_exporter": "python",
   "pygments_lexer": "ipython3",
   "version": "3.5.1"
  }
 },
 "nbformat": 4,
 "nbformat_minor": 0
}
